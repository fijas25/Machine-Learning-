import numpy as np
import matplotlib.pyplot as mtp
import pandas as pd
from sklearn import datasets, linear_model
diabetes = datasets.load_diabetes()
print("feature names :",diabetes['feature_names'])
print("first five rows of data:\n",diabetes[ 'data'][:5])

x = diabetes.data[:, np.newaxis, 2]
y = diabetes.target
from sklearn.model_selection import train_test_split
x_train, x_test, y_train, y_test = train_test_split(x, y, test_size=1/3, random_state =0)
